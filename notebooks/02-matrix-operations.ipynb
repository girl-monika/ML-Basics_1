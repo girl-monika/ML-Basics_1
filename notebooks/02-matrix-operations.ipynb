# Matrix Operations with NumPy
# Practice problems: matrix add, dot product, transpose, element-wise multiplication


 What is a Matrix?

A matrix is like a box of numbers with rows and columns.

Example:

[[1, 2, 3],
 [4, 5, 6]]


Think of it as a mini table or a tiny spreadsheet.

🟢 Creating a Matrix in Python
import numpy as np

# 2x3 matrix (2 rows, 3 columns)
A = np.array([[1, 2, 3], [4, 5, 6]])
print("Matrix A:\n", A)

# 3x2 matrix
B = np.array([[7, 8], [9, 10], [11, 12]])
print("Matrix B:\n", B)

🟢 Matrix Addition

You can add two matrices only if they have the same shape (same number of rows and columns).

Add element by element.

# Two 2x2 matrices
X = np.array([[1, 2], [3, 4]])
Y = np.array([[5, 6], [7, 8]])

Z = X + Y
print("Matrix Addition:\n", Z)


Output:

[[ 6  8]
 [10 12]]


Every number is just added with the number in the same position.

🟢 Matrix Subtraction
Z = Y - X
print("Matrix Subtraction:\n", Z)


Output:

[[4 4]
 [4 4]]

🟢 Dot Product (Matrix Multiplication)

Think of dot product as combining rows of first matrix with columns of second matrix.

Rules: Columns of first = Rows of second.

A = np.array([[1, 2, 3], [4, 5, 6]])  # 2x3
B = np.array([[7, 8], [9, 10], [11, 12]])  # 3x2

C = np.dot(A, B)
print("Dot Product:\n", C)


Output:

[[ 58  64]
 [139 154]]


💡 How it works:

First row of A × first column of B: 1*7 + 2*9 + 3*11 = 58

First row of A × second column of B: 1*8 + 2*10 + 3*12 = 64

And so on.

🟢 Element-wise Multiplication

Multiply each number in one matrix with the number in the same position in another matrix (they must have the same shape).

X = np.array([[1, 2], [3, 4]])
Y = np.array([[5, 6], [7, 8]])

Z = X * Y
print("Element-wise Multiplication:\n", Z)


Output:

[[ 5 12]
 [21 32]]

🟢 Transpose of a Matrix

Flip rows and columns.

A = np.array([[1, 2, 3], [4, 5, 6]])
print("Transpose of A:\n", A.T)


Output:

[[1 4]
 [2 5]
 [3 6]]